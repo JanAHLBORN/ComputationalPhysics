{
 "cells": [
  {
   "cell_type": "code",
   "execution_count": 1,
   "metadata": {},
   "outputs": [],
   "source": [
    "import numpy as np\n"
   ]
  },
  {
   "cell_type": "markdown",
   "metadata": {},
   "source": [
    "# Independent Trials + Trial Size \n",
    "\n",
    "## Just do one big experiment"
   ]
  },
  {
   "cell_type": "code",
   "execution_count": 58,
   "metadata": {},
   "outputs": [
    {
     "name": "stdout",
     "output_type": "stream",
     "text": [
      "final answer: pi=3.1548000000000003\n",
      "X=1, so the deviation is compute according to std:\n",
      "pi_std = 0.0\n"
     ]
    }
   ],
   "source": [
    "def get_pi(X:int,  # Number of trials\n",
    "           P:int,  # Number of pairs per trial\n",
    "           Deviation : bool=False,  # Wether to compute the deviation or not\n",
    "           ):\n",
    "    pi_list = np.zeros(X)\n",
    "    for x in range(X):\n",
    "        # Define random variables in a square of side length 2\n",
    "        rands = np.random.uniform(-1,1, size=(P,2))\n",
    "        # Compute distance of each point from center\n",
    "        R = [np.sqrt(p[0]**2 + p[1]**2) for p in rands]\n",
    "        # Check if the points are inside the circle (r<=1)\n",
    "        R_inside = [r <= 1 for r in R]\n",
    "        # Compute the ratio of points inside the circle and thus pi for trial x\n",
    "        indicator_variable = 4*np.array(R_inside)\n",
    "        pi_x = (1/P) * np.sum(indicator_variable)\n",
    "        # Add pi_x to list of all pis for all trials\n",
    "        pi_list[x] = pi_x\n",
    "    \n",
    "    # Compute final answer\n",
    "    pi_final = np.mean(pi_list)\n",
    "    print(f'final answer: pi={pi_final}')\n",
    "    \n",
    "    # Compute Deviation\n",
    "    if Deviation:\n",
    "        if X==1:\n",
    "            pi_std = np.std(pi_list)\n",
    "            print(f'X=1, so the deviation is compute according to std:\\npi_std = {pi_std}')\n",
    "        else:\n",
    "            pi_deviation = (1/(X-1))*np.sqrt( (pi_x-pi_final)**2 )\n",
    "            print(f'X = {X}, the deviation is:\\npi_deviation = {pi_deviation}')\n",
    "       \n",
    "        \n",
    "    \n",
    "\n",
    "get_pi(X=1, P=10000, Deviation=True)"
   ]
  },
  {
   "cell_type": "code",
   "execution_count": null,
   "metadata": {},
   "outputs": [],
   "source": []
  },
  {
   "cell_type": "code",
   "execution_count": null,
   "metadata": {},
   "outputs": [],
   "source": []
  }
 ],
 "metadata": {
  "kernelspec": {
   "display_name": "Python 3",
   "language": "python",
   "name": "python3"
  },
  "language_info": {
   "codemirror_mode": {
    "name": "ipython",
    "version": 3
   },
   "file_extension": ".py",
   "mimetype": "text/x-python",
   "name": "python",
   "nbconvert_exporter": "python",
   "pygments_lexer": "ipython3",
   "version": "3.8.10"
  }
 },
 "nbformat": 4,
 "nbformat_minor": 2
}
